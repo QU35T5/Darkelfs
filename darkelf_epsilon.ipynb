{
 "cells": [
  {
   "cell_type": "markdown",
   "metadata": {},
   "source": [
    "# DarkELF epsilon notebook"
   ]
  },
  {
   "cell_type": "markdown",
   "metadata": {},
   "source": [
    "This notebook is meant to illustrate the basic usage of DarkELF, and shows the routines to access the ELF and the dielectric function under various assumptions.\n",
    "\n",
    "written by Tongyan Lin & Simon Knapen, 04/20/2021"
   ]
  },
  {
   "cell_type": "code",
   "execution_count": 4,
   "metadata": {},
   "outputs": [],
   "source": [
    "%matplotlib inline\n",
    "\n",
    "import sys, os\n",
    "import numpy as np\n",
    "import matplotlib.pyplot as plt\n",
    "import matplotlib.ticker\n",
    "from matplotlib import rc, rcParams\n",
    "import matplotlib.cm as cm\n",
    "from mpl_toolkits.axes_grid1 import make_axes_locatable\n",
    "\n",
    "# Make use of TeX\\ufeff\n",
    "rc('text',usetex=True)\n",
    "# Change all fonts to 'Computer Modern'\n",
    "rc('font',**{'size':14, 'family':'serif','serif':['Times New Roman']})\n",
    "rc('xtick.major', size=5, pad=7)\n",
    "rc('xtick', labelsize=15)\n",
    "rc('ytick.major', size=5, pad=7)\n",
    "rc('ytick', labelsize=15)\n",
    "\n",
    "# this needs to point to the folder where darkelf.py is stored\n",
    "work_dir = os.getcwd()\n",
    "sys.path.append(work_dir+\"/..\")\n",
    "plotdir=work_dir+\"/plots/\"\n",
    "\n",
    "from darkelf import darkelf, targets\n"
   ]
  },
  {
   "cell_type": "markdown",
   "metadata": {},
   "source": [
    "Check which data grids are available for the material of interest."
   ]
  },
  {
   "cell_type": "code",
   "execution_count": 5,
   "metadata": {},
   "outputs": [
    {
     "name": "stdout",
     "output_type": "stream",
     "text": [
      "Available configuration files: \n",
      "\t Ge.yaml\n",
      " \n",
      "Available data for epsilon: \n",
      "\t Ge_epsphonon_data2K.dat\n",
      "\t Ge_epsphonon_theory6K.dat\n"
     ]
    }
   ],
   "source": [
    "targets.files(\"Ge\")"
   ]
  },
  {
   "cell_type": "markdown",
   "metadata": {},
   "source": [
    "Specify a \"filename\" for the ELF for omega > electron band gap and a \"phonon_filename\" for the ELF below the electron bandgap, if desired."
   ]
  },
  {
   "cell_type": "code",
   "execution_count": 6,
   "metadata": {},
   "outputs": [
    {
     "name": "stdout",
     "output_type": "stream",
     "text": [
      " .... Loading files for Si\n",
      "Loaded Si_gpaw_withLFE.dat for epsilon in electron regime\n",
      "Loaded Si_epsphonon_data6K.dat for epsilon in phonon regime\n",
      " .... Loading files for Si\n",
      "Loaded Si_mermin.dat for epsilon in electron regime\n",
      "Loaded Si_epsphonon_data6K.dat for epsilon in phonon regime\n",
      " .... Loading files for Si\n",
      "Loaded Si_mermin.dat for epsilon in electron regime\n",
      "Loaded Si_epsphonon_theory6K.dat for epsilon in phonon regime\n",
      " .... Loading files for Ge\n",
      "Warning! Epsilon grid in electron regime does not exist.\n",
      "Loaded Ge_epsphonon_data2K.dat for epsilon in phonon regime\n",
      "Warning! Atomic Migdal calculation not present\n",
      " .... Loading files for Ge\n",
      "Warning! Epsilon grid in electron regime does not exist.\n",
      "Loaded Ge_epsphonon_data2K.dat for epsilon in phonon regime\n",
      "Warning! Atomic Migdal calculation not present\n",
      " .... Loading files for Ge\n",
      "Warning! Epsilon grid in electron regime does not exist.\n",
      "Loaded Ge_epsphonon_theory6K.dat for epsilon in phonon regime\n",
      "Warning! Atomic Migdal calculation not present\n"
     ]
    }
   ],
   "source": [
    "Si = darkelf(target='Si',filename='Si_gpaw_withLFE.dat',phonon_filename=\"Si_epsphonon_data6K.dat\")\n",
    "Si_mermin = darkelf(target='Si',filename='Si_mermin.dat',phonon_filename=\"Si_epsphonon_data6K.dat\")\n",
    "Si_phonon_theory = darkelf(target='Si',filename='Si_mermin.dat',phonon_filename=\"Si_epsphonon_theory6K.dat\")\n",
    "\n",
    "Ge = darkelf(target='Ge',filename='Ge_gpaw_withLFE.dat',phonon_filename=\"Ge_epsphonon_data2K.dat\")\n",
    "Ge_mermin = darkelf(target='Ge',filename='Ge_mermin.dat',phonon_filename=\"Ge_epsphonon_data2K.dat\")\n",
    "Ge_phonon_theory = darkelf(target='Ge',filename='Ge_mermin.dat',phonon_filename=\"Ge_epsphonon_theory6K.dat\")\n",
    "\n"
   ]
  },
  {
   "cell_type": "markdown",
   "metadata": {},
   "source": [
    "## dielectric functions"
   ]
  },
  {
   "cell_type": "markdown",
   "metadata": {},
   "source": [
    "Real part"
   ]
  },
  {
   "cell_type": "code",
   "execution_count": 7,
   "metadata": {},
   "outputs": [
    {
     "name": "stdout",
     "output_type": "stream",
     "text": [
      "\u001b[0;31mSignature:\u001b[0m \u001b[0mSi\u001b[0m\u001b[0;34m.\u001b[0m\u001b[0meps1\u001b[0m\u001b[0;34m(\u001b[0m\u001b[0momega\u001b[0m\u001b[0;34m,\u001b[0m \u001b[0mk\u001b[0m\u001b[0;34m,\u001b[0m \u001b[0mmethod\u001b[0m\u001b[0;34m=\u001b[0m\u001b[0;34m'grid'\u001b[0m\u001b[0;34m)\u001b[0m\u001b[0;34m\u001b[0m\u001b[0;34m\u001b[0m\u001b[0m\n",
      "\u001b[0;31mDocstring:\u001b[0m\n",
      "Real part of epsilon(omega,k)\n",
      "\n",
      "Inputs\n",
      "------\n",
      "omega: float or array\n",
      "    energy in eV\n",
      "k: float\n",
      "    energy in eV\n",
      "method = \"grid\" (using the grid loaded in filename), \"Lindhard\" (free electron gas), or \"phonon\"\n",
      "\u001b[0;31mFile:\u001b[0m      ~/Documents/Darkelfs/darkelf/epsilon.py\n",
      "\u001b[0;31mType:\u001b[0m      method\n"
     ]
    }
   ],
   "source": [
    "?Si.eps1"
   ]
  },
  {
   "cell_type": "code",
   "execution_count": 8,
   "metadata": {},
   "outputs": [
    {
     "name": "stdout",
     "output_type": "stream",
     "text": [
      "9.860192398495757\n",
      "6.539557197348618\n",
      "11.902500000000002\n",
      "[ 9.8601924  -1.71897475]\n"
     ]
    }
   ],
   "source": [
    "print(Si.eps1(5.0,1000.))\n",
    "print(Si.eps1(5.0,1000.,method=\"Lindhard\"))\n",
    "print(Si.eps1(0.1,0.0,method=\"phonon\"))\n",
    "print(Si.eps1([5.0,10],1000.)) # can be broadcasted over a list of omega"
   ]
  },
  {
   "cell_type": "markdown",
   "metadata": {},
   "source": [
    "imaginary part"
   ]
  },
  {
   "cell_type": "code",
   "execution_count": 9,
   "metadata": {},
   "outputs": [
    {
     "name": "stdout",
     "output_type": "stream",
     "text": [
      "\u001b[0;31mSignature:\u001b[0m \u001b[0mSi\u001b[0m\u001b[0;34m.\u001b[0m\u001b[0meps2\u001b[0m\u001b[0;34m(\u001b[0m\u001b[0momega\u001b[0m\u001b[0;34m,\u001b[0m \u001b[0mk\u001b[0m\u001b[0;34m,\u001b[0m \u001b[0mmethod\u001b[0m\u001b[0;34m=\u001b[0m\u001b[0;34m'grid'\u001b[0m\u001b[0;34m)\u001b[0m\u001b[0;34m\u001b[0m\u001b[0;34m\u001b[0m\u001b[0m\n",
      "\u001b[0;31mDocstring:\u001b[0m\n",
      "Imaginary part of epsilon(omega,k)\n",
      "\n",
      "Inputs\n",
      "------\n",
      "omega: float or array\n",
      "    energy in eV\n",
      "k: float\n",
      "    energy in eV\n",
      "method = \"grid\" (using the grid loaded in filename), \"Lindhard\" (free electron gas), or \"phonon\"\n",
      "\u001b[0;31mFile:\u001b[0m      ~/Documents/Darkelfs/darkelf/epsilon.py\n",
      "\u001b[0;31mType:\u001b[0m      method\n"
     ]
    }
   ],
   "source": [
    "?Si.eps2"
   ]
  },
  {
   "cell_type": "code",
   "execution_count": 10,
   "metadata": {},
   "outputs": [
    {
     "name": "stdout",
     "output_type": "stream",
     "text": [
      "4.160907627999158\n",
      "19.059927007299258\n",
      "0.0007193363585786346\n",
      "[4.16090763 2.08414923]\n"
     ]
    }
   ],
   "source": [
    "print(Si.eps2(5.0,1000.))\n",
    "print(Si.eps2(5.0,1000.,method=\"Lindhard\"))\n",
    "print(Si.eps2(0.1,0.0,method=\"phonon\"))\n",
    "print(Si.eps2([5.0,10],1000.)) # can be broadcasted over a list of omega"
   ]
  },
  {
   "cell_type": "markdown",
   "metadata": {},
   "source": [
    "ELF"
   ]
  },
  {
   "cell_type": "code",
   "execution_count": 11,
   "metadata": {},
   "outputs": [
    {
     "name": "stdout",
     "output_type": "stream",
     "text": [
      "\u001b[0;31mSignature:\u001b[0m \u001b[0mSi\u001b[0m\u001b[0;34m.\u001b[0m\u001b[0melf\u001b[0m\u001b[0;34m(\u001b[0m\u001b[0momega\u001b[0m\u001b[0;34m,\u001b[0m \u001b[0mk\u001b[0m\u001b[0;34m,\u001b[0m \u001b[0mmethod\u001b[0m\u001b[0;34m=\u001b[0m\u001b[0;34m'grid'\u001b[0m\u001b[0;34m)\u001b[0m\u001b[0;34m\u001b[0m\u001b[0;34m\u001b[0m\u001b[0m\n",
      "\u001b[0;31mDocstring:\u001b[0m\n",
      "Energy loss function Im(-1/eps(omega,k))\n",
      "\n",
      "Inputs\n",
      "------\n",
      "omega: float or array\n",
      "    energy in eV\n",
      "k: float\n",
      "    energy in eV\n",
      "method = \"grid\" (using the grid loaded in filename), \"Lindhard\" (free electron gas), or \"phonon\"\n",
      "\u001b[0;31mFile:\u001b[0m      ~/Documents/Darkelfs/darkelf/epsilon.py\n",
      "\u001b[0;31mType:\u001b[0m      method\n"
     ]
    }
   ],
   "source": [
    "?Si.elf"
   ]
  },
  {
   "cell_type": "code",
   "execution_count": 12,
   "metadata": {},
   "outputs": [
    {
     "name": "stdout",
     "output_type": "stream",
     "text": [
      "0.0363282092738552\n",
      "0.0469402423105601\n",
      "1.2349807697483523e-05\n",
      "[0.03632821 0.28555653]\n"
     ]
    }
   ],
   "source": [
    "print(Si.elf(5.0,1000.))\n",
    "print(Si.elf(5.0,1000.,method=\"Lindhard\"))\n",
    "print(Si.elf(0.07,0.0,method=\"phonon\"))\n",
    "print(Si.elf([5.0,10],1000.)) # can be broadcasted over a list of omega"
   ]
  },
  {
   "cell_type": "markdown",
   "metadata": {},
   "source": [
    "##  The optical regime (k=0), electron regime"
   ]
  },
  {
   "cell_type": "markdown",
   "metadata": {},
   "source": [
    "This limit is relevant for absorption. Experimental data is also easier to find in this limit. Comparison between GPAW, mermin and experimental data"
   ]
  },
  {
   "cell_type": "code",
   "execution_count": 14,
   "metadata": {},
   "outputs": [
    {
     "ename": "FileNotFoundError",
     "evalue": "data/Si-handbook-nk.txt not found.",
     "output_type": "error",
     "traceback": [
      "\u001b[0;31m---------------------------------------------------------------------------\u001b[0m",
      "\u001b[0;31mFileNotFoundError\u001b[0m                         Traceback (most recent call last)",
      "\u001b[0;32m/var/folders/hq/ckb7gd291n1bcs_rdlffldyh0000gn/T/ipykernel_6889/3111704702.py\u001b[0m in \u001b[0;36m<module>\u001b[0;34m\u001b[0m\n\u001b[1;32m     10\u001b[0m \u001b[0maxs\u001b[0m\u001b[0;34m[\u001b[0m\u001b[0;36m0\u001b[0m\u001b[0;34m]\u001b[0m\u001b[0;34m[\u001b[0m\u001b[0;36m0\u001b[0m\u001b[0;34m]\u001b[0m\u001b[0;34m.\u001b[0m\u001b[0mplot\u001b[0m\u001b[0;34m(\u001b[0m\u001b[0momvec\u001b[0m\u001b[0;34m,\u001b[0m\u001b[0my2\u001b[0m\u001b[0;34m,\u001b[0m\u001b[0mcolor\u001b[0m\u001b[0;34m=\u001b[0m\u001b[0;34m'MediumBlue'\u001b[0m\u001b[0;34m,\u001b[0m\u001b[0mlinestyle\u001b[0m\u001b[0;34m=\u001b[0m\u001b[0;34m'--'\u001b[0m\u001b[0;34m,\u001b[0m\u001b[0mlabel\u001b[0m\u001b[0;34m=\u001b[0m\u001b[0;34m'Si, mermin'\u001b[0m\u001b[0;34m)\u001b[0m\u001b[0;34m\u001b[0m\u001b[0;34m\u001b[0m\u001b[0m\n\u001b[1;32m     11\u001b[0m \u001b[0;34m\u001b[0m\u001b[0m\n\u001b[0;32m---> 12\u001b[0;31m \u001b[0mdat\u001b[0m \u001b[0;34m=\u001b[0m \u001b[0mnp\u001b[0m\u001b[0;34m.\u001b[0m\u001b[0mloadtxt\u001b[0m\u001b[0;34m(\u001b[0m\u001b[0;34m'data/Si-handbook-nk.txt'\u001b[0m\u001b[0;34m)\u001b[0m\u001b[0;34m.\u001b[0m\u001b[0mT\u001b[0m\u001b[0;34m\u001b[0m\u001b[0;34m\u001b[0m\u001b[0m\n\u001b[0m\u001b[1;32m     13\u001b[0m axs[0][0].plot(dat[0],dat[1]**2 - dat[2]**2,color='SteelBlue',\n\u001b[1;32m     14\u001b[0m          linestyle=':', label=r'Si, optical data')\n",
      "\u001b[0;32m/Library/Frameworks/Python.framework/Versions/3.10/lib/python3.10/site-packages/numpy/lib/npyio.py\u001b[0m in \u001b[0;36mloadtxt\u001b[0;34m(fname, dtype, comments, delimiter, converters, skiprows, usecols, unpack, ndmin, encoding, max_rows, like)\u001b[0m\n\u001b[1;32m   1040\u001b[0m             \u001b[0mfname\u001b[0m \u001b[0;34m=\u001b[0m \u001b[0mos_fspath\u001b[0m\u001b[0;34m(\u001b[0m\u001b[0mfname\u001b[0m\u001b[0;34m)\u001b[0m\u001b[0;34m\u001b[0m\u001b[0;34m\u001b[0m\u001b[0m\n\u001b[1;32m   1041\u001b[0m         \u001b[0;32mif\u001b[0m \u001b[0m_is_string_like\u001b[0m\u001b[0;34m(\u001b[0m\u001b[0mfname\u001b[0m\u001b[0;34m)\u001b[0m\u001b[0;34m:\u001b[0m\u001b[0;34m\u001b[0m\u001b[0;34m\u001b[0m\u001b[0m\n\u001b[0;32m-> 1042\u001b[0;31m             \u001b[0mfh\u001b[0m \u001b[0;34m=\u001b[0m \u001b[0mnp\u001b[0m\u001b[0;34m.\u001b[0m\u001b[0mlib\u001b[0m\u001b[0;34m.\u001b[0m\u001b[0m_datasource\u001b[0m\u001b[0;34m.\u001b[0m\u001b[0mopen\u001b[0m\u001b[0;34m(\u001b[0m\u001b[0mfname\u001b[0m\u001b[0;34m,\u001b[0m \u001b[0;34m'rt'\u001b[0m\u001b[0;34m,\u001b[0m \u001b[0mencoding\u001b[0m\u001b[0;34m=\u001b[0m\u001b[0mencoding\u001b[0m\u001b[0;34m)\u001b[0m\u001b[0;34m\u001b[0m\u001b[0;34m\u001b[0m\u001b[0m\n\u001b[0m\u001b[1;32m   1043\u001b[0m             \u001b[0mfencoding\u001b[0m \u001b[0;34m=\u001b[0m \u001b[0mgetattr\u001b[0m\u001b[0;34m(\u001b[0m\u001b[0mfh\u001b[0m\u001b[0;34m,\u001b[0m \u001b[0;34m'encoding'\u001b[0m\u001b[0;34m,\u001b[0m \u001b[0;34m'latin1'\u001b[0m\u001b[0;34m)\u001b[0m\u001b[0;34m\u001b[0m\u001b[0;34m\u001b[0m\u001b[0m\n\u001b[1;32m   1044\u001b[0m             \u001b[0mline_iter\u001b[0m \u001b[0;34m=\u001b[0m \u001b[0miter\u001b[0m\u001b[0;34m(\u001b[0m\u001b[0mfh\u001b[0m\u001b[0;34m)\u001b[0m\u001b[0;34m\u001b[0m\u001b[0;34m\u001b[0m\u001b[0m\n",
      "\u001b[0;32m/Library/Frameworks/Python.framework/Versions/3.10/lib/python3.10/site-packages/numpy/lib/_datasource.py\u001b[0m in \u001b[0;36mopen\u001b[0;34m(path, mode, destpath, encoding, newline)\u001b[0m\n\u001b[1;32m    191\u001b[0m \u001b[0;34m\u001b[0m\u001b[0m\n\u001b[1;32m    192\u001b[0m     \u001b[0mds\u001b[0m \u001b[0;34m=\u001b[0m \u001b[0mDataSource\u001b[0m\u001b[0;34m(\u001b[0m\u001b[0mdestpath\u001b[0m\u001b[0;34m)\u001b[0m\u001b[0;34m\u001b[0m\u001b[0;34m\u001b[0m\u001b[0m\n\u001b[0;32m--> 193\u001b[0;31m     \u001b[0;32mreturn\u001b[0m \u001b[0mds\u001b[0m\u001b[0;34m.\u001b[0m\u001b[0mopen\u001b[0m\u001b[0;34m(\u001b[0m\u001b[0mpath\u001b[0m\u001b[0;34m,\u001b[0m \u001b[0mmode\u001b[0m\u001b[0;34m,\u001b[0m \u001b[0mencoding\u001b[0m\u001b[0;34m=\u001b[0m\u001b[0mencoding\u001b[0m\u001b[0;34m,\u001b[0m \u001b[0mnewline\u001b[0m\u001b[0;34m=\u001b[0m\u001b[0mnewline\u001b[0m\u001b[0;34m)\u001b[0m\u001b[0;34m\u001b[0m\u001b[0;34m\u001b[0m\u001b[0m\n\u001b[0m\u001b[1;32m    194\u001b[0m \u001b[0;34m\u001b[0m\u001b[0m\n\u001b[1;32m    195\u001b[0m \u001b[0;34m\u001b[0m\u001b[0m\n",
      "\u001b[0;32m/Library/Frameworks/Python.framework/Versions/3.10/lib/python3.10/site-packages/numpy/lib/_datasource.py\u001b[0m in \u001b[0;36mopen\u001b[0;34m(self, path, mode, encoding, newline)\u001b[0m\n\u001b[1;32m    530\u001b[0m                                       encoding=encoding, newline=newline)\n\u001b[1;32m    531\u001b[0m         \u001b[0;32melse\u001b[0m\u001b[0;34m:\u001b[0m\u001b[0;34m\u001b[0m\u001b[0;34m\u001b[0m\u001b[0m\n\u001b[0;32m--> 532\u001b[0;31m             \u001b[0;32mraise\u001b[0m \u001b[0mFileNotFoundError\u001b[0m\u001b[0;34m(\u001b[0m\u001b[0;34mf\"{path} not found.\"\u001b[0m\u001b[0;34m)\u001b[0m\u001b[0;34m\u001b[0m\u001b[0;34m\u001b[0m\u001b[0m\n\u001b[0m\u001b[1;32m    533\u001b[0m \u001b[0;34m\u001b[0m\u001b[0m\n\u001b[1;32m    534\u001b[0m \u001b[0;34m\u001b[0m\u001b[0m\n",
      "\u001b[0;31mFileNotFoundError\u001b[0m: data/Si-handbook-nk.txt not found."
     ]
    },
    {
     "data": {
      "image/png": "[encoded data removed]",
      "text/plain": [
       "<Figure size 864x576 with 4 Axes>"
      ]
     },
     "metadata": {
      "needs_background": "light"
     },
     "output_type": "display_data"
    }
   ],
   "source": [
    "fig, axs = plt.subplots(2,2,figsize=(12, 8),sharex=True)\n",
    "fig.subplots_adjust(wspace=0.25)\n",
    "\n",
    "omvec = np.linspace(0,80,200)\n",
    "\n",
    "### Epsilon1, Si\n",
    "y1 = [Si.eps1(omi,omi) for omi in omvec]\n",
    "y2 = [Si_mermin.eps1(omi,omi) for omi in omvec]\n",
    "axs[0][0].plot(omvec,y1,color='MediumBlue',label='Si, GPAW')\n",
    "axs[0][0].plot(omvec,y2,color='MediumBlue',linestyle='--',label='Si, mermin')\n",
    "\n",
    "dat = np.loadtxt('data/Si-handbook-nk.txt').T\n",
    "axs[0][0].plot(dat[0],dat[1]**2 - dat[2]**2,color='SteelBlue',\n",
    "         linestyle=':', label=r'Si, optical data')\n",
    "\n",
    "axs[0][0].set_yscale('linear')\n",
    "axs[0][0].set_xlim([0,15])\n",
    "axs[0][0].legend(loc='upper right')\n",
    "axs[0][0].set_ylabel(r'$\\epsilon_1$',fontsize=16)\n",
    "\n",
    "### Epsilon2, Si\n",
    "y1 = [Si.eps2(omi,omi) for omi in omvec]\n",
    "y2 = [Si_mermin.eps2(omi,omi) for omi in omvec]\n",
    "axs[0][1].plot(omvec,y1,color='MediumBlue',label='Si, GPAW')\n",
    "axs[0][1].plot(omvec,y2,color='MediumBlue',linestyle='--',label='Si, mermin')\n",
    "\n",
    "axs[0][1].plot(dat[0],dat[1]*dat[2]*2.0,color='SteelBlue',\n",
    "         linestyle=':', label=r'Si, optical data', linewidth=2.0)\n",
    "\n",
    "axs[0][1].set_yscale('log')\n",
    "axs[0][1].set_ylim([1e-3,1e2])\n",
    "axs[0][1].set_xlim([0,40])\n",
    "axs[0][1].legend(loc='upper right')\n",
    "axs[0][1].set_ylabel(r'$\\epsilon_2$',fontsize=16)\n",
    "\n",
    "### Epsilon1, Ge\n",
    "\n",
    "y1 = [Ge.eps1(omi,omi) for omi in omvec]\n",
    "y2 = [Ge_mermin.eps1(omi,omi) for omi in omvec]\n",
    "axs[1][0].plot(omvec,y1,color='Coral',label='Ge, GPAW')\n",
    "axs[1][0].plot(omvec,y2,color='Coral',linestyle='--',label='Ge, mermin')\n",
    "\n",
    "dat = np.loadtxt('data/Ge-handbook-nk.txt').T\n",
    "axs[1][0].plot(dat[0],dat[2]**2 - dat[3]**2,color='Crimson',\n",
    "         linestyle=':', label=r'Ge, optical data')\n",
    "\n",
    "axs[1][0].set_yscale('linear')\n",
    "axs[1][0].set_xlim([0,15])\n",
    "axs[1][0].legend(loc='upper right')\n",
    "axs[1][0].set_xlabel(r'$\\omega$ [eV]')\n",
    "axs[1][0].set_ylabel(r'$\\epsilon_1$',fontsize=16)\n",
    "\n",
    "### Epsilon2, Ge\n",
    "y1 = [Ge.eps2(omi,omi) for omi in omvec]\n",
    "y2 = [Ge_mermin.eps2(omi,omi) for omi in omvec]\n",
    "axs[1][1].plot(omvec,y1,color='Coral',label='Ge, GPAW')\n",
    "axs[1][1].plot(omvec,y2,color='Coral',linestyle='--',label='Ge, mermin')\n",
    "\n",
    "axs[1][1].plot(dat[0],dat[2]*dat[3]*2.0,color='Crimson',\n",
    "         linestyle=':', label=r'Ge, optical data', linewidth=2.0)\n",
    "\n",
    "axs[1][1].set_yscale('log')\n",
    "axs[1][1].set_ylim([1e-3,1e2])\n",
    "axs[1][1].set_xlim([0,40])\n",
    "axs[1][1].legend(loc='upper right')\n",
    "axs[1][1].set_xlabel(r'$\\omega$ [eV]')\n",
    "axs[1][1].set_ylabel(r'$\\epsilon_2$',fontsize=16)\n",
    "\n",
    "fig.savefig(plotdir+\"darkelf_epsilon_1.pdf\",bbox_inches='tight')\n"
   ]
  },
  {
   "cell_type": "markdown",
   "metadata": {},
   "source": [
    "Same, for ELF"
   ]
  },
  {
   "cell_type": "code",
   "execution_count": null,
   "metadata": {},
   "outputs": [
    {
     "data": {
      "image/png": "[encoded data removed]",
      "text/plain": [
       "<Figure size 864x288 with 2 Axes>"
      ]
     },
     "metadata": {
      "needs_background": "light"
     },
     "output_type": "display_data"
    }
   ],
   "source": [
    "fig, axs = plt.subplots(1,2,figsize=(12, 4),sharey=True)\n",
    "fig.subplots_adjust(wspace=0.25)\n",
    "\n",
    "omvec = np.linspace(0,80,200)\n",
    "\n",
    "### ELF, Si\n",
    "y1 = [Si.elf(omi,omi) for omi in omvec]\n",
    "y2 = [Si_mermin.elf(omi,omi) for omi in omvec]\n",
    "axs[0].plot(omvec,y1,color='MediumBlue',label='Si, GPAW')\n",
    "axs[0].plot(omvec,y2,color='MediumBlue',linestyle='--',label='Si, mermin')\n",
    "\n",
    "dat = np.loadtxt('data/Si-handbook-nk.txt').T\n",
    "dat_eps1 = dat[1]**2 - dat[2]**2\n",
    "dat_eps2 = dat[1]*dat[2]*2.0\n",
    "axs[0].plot(dat[0],dat_eps2/(dat_eps2**2 + dat_eps1**2),color='SteelBlue',\n",
    "         linestyle=':', label=r'Si, optical data',linewidth=2.0)\n",
    "\n",
    "axs[0].set_yscale('log')\n",
    "axs[0].set_ylim([1e-3,20])\n",
    "axs[0].set_xlim([0,100])\n",
    "axs[0].legend(loc='upper right')\n",
    "axs[0].set_xlabel(r'$\\omega$ [eV]')\n",
    "axs[0].set_ylabel(r'ELF',fontsize=12)\n",
    "\n",
    "### Epsilon1, Ge\n",
    "\n",
    "y1 = [Ge.elf(omi,omi) for omi in omvec]\n",
    "y2 = [Ge_mermin.elf(omi,omi) for omi in omvec]\n",
    "axs[1].plot(omvec,y1,color='Coral',label='Ge, GPAW')\n",
    "axs[1].plot(omvec,y2,color='Coral',linestyle='--',label='Ge, mermin')\n",
    "\n",
    "dat = np.loadtxt('data/Ge-handbook-nk.txt').T\n",
    "dat_eps1 = dat[2]**2 - dat[3]**2\n",
    "dat_eps2 = dat[2]*dat[3]*2.0\n",
    "axs[1].plot(dat[0],dat_eps2/(dat_eps2**2 + dat_eps1**2),color='Crimson',\n",
    "         linestyle=':', label=r'Ge, optical data')\n",
    "\n",
    "axs[1].set_yscale('log')\n",
    "axs[1].set_ylim([1e-3,20])\n",
    "axs[1].set_xlim([0,100])\n",
    "axs[1].legend(loc='upper right')\n",
    "axs[1].set_xlabel(r'$\\omega$ [eV]')\n",
    "\n",
    "fig.savefig(plotdir+\"darkelf_epsilon_2.pdf\",bbox_inches='tight')"
   ]
  },
  {
   "cell_type": "markdown",
   "metadata": {},
   "source": [
    "Note the Ge data set is very coarse below 20 eV, which is why it does not reproduce the plasmon resonance. The GPAW calculation for Ge also does not include semi-core electrons, which contribute at energies of 30 eV and above"
   ]
  },
  {
   "cell_type": "markdown",
   "metadata": {},
   "source": [
    "## optical limit (k=0) in phonon regime"
   ]
  },
  {
   "cell_type": "code",
   "execution_count": null,
   "metadata": {},
   "outputs": [
    {
     "data": {
      "image/png": "[encoded data removed]",
      "text/plain": [
       "<Figure size 864x576 with 4 Axes>"
      ]
     },
     "metadata": {
      "needs_background": "light"
     },
     "output_type": "display_data"
    }
   ],
   "source": [
    "fig, axs = plt.subplots(2,2,figsize=(12, 8),sharex=True)\n",
    "fig.subplots_adjust(wspace=0.25)\n",
    "\n",
    "omvec = np.linspace(0,1,200)\n",
    "\n",
    "### Epsilon1, Si\n",
    "y1 = [Si.eps1(omi,omi,method=\"phonon\") for omi in omvec]\n",
    "y2 = [Si_phonon_theory.eps1(omi,omi,method=\"phonon\") for omi in omvec]\n",
    "axs[0][0].plot(omvec,y1,color='MediumBlue',label='Si, measured')\n",
    "axs[0][0].plot(omvec,y2,color='MediumBlue',linestyle='--',label='Si, theory')\n",
    "\n",
    "axs[0][0].set_yscale('linear')\n",
    "axs[0][0].set_xlim([0,0.2])\n",
    "axs[0][0].legend(loc='upper right')\n",
    "axs[0][0].set_ylabel(r'$\\epsilon_1$',fontsize=16)\n",
    "\n",
    "### Epsilon2, Si\n",
    "y1 = [Si.eps2(omi,omi,method=\"phonon\") for omi in omvec]\n",
    "y2 = [Si_phonon_theory.eps2(omi,omi,method=\"phonon\") for omi in omvec]\n",
    "axs[0][1].plot(omvec,y1,color='MediumBlue',label='Si, measured')\n",
    "axs[0][1].plot(omvec,y2,color='MediumBlue',linestyle='--',label='Si, theory')\n",
    "\n",
    "axs[0][1].set_yscale('log')\n",
    "axs[0][1].set_ylim([1e-5,1e-2])\n",
    "axs[0][1].set_xlim([0,0.2])\n",
    "axs[0][1].legend(loc='upper right')\n",
    "axs[0][1].set_ylabel(r'$\\epsilon_2$',fontsize=16)\n",
    "\n",
    "### Epsilon1, Ge\n",
    "\n",
    "y1 = [Ge.eps1(omi,omi,method=\"phonon\") for omi in omvec]\n",
    "y2 = [Ge_phonon_theory.eps1(omi,omi,method=\"phonon\") for omi in omvec]\n",
    "axs[1][0].plot(omvec,y1,color='Coral',label='Ge, measured')\n",
    "axs[1][0].plot(omvec,y2,color='Coral',linestyle='--',label='Ge, theory')\n",
    "\n",
    "\n",
    "axs[1][0].set_yscale('linear')\n",
    "axs[1][0].set_xlim([0,0.2])\n",
    "axs[1][0].legend(loc='upper right')\n",
    "axs[1][0].set_xlabel(r'$\\omega$ [eV]')\n",
    "axs[1][0].set_ylabel(r'$\\epsilon_1$',fontsize=16)\n",
    "\n",
    "### Epsilon2, Ge\n",
    "y1 = [Ge.eps2(omi,omi,method=\"phonon\") for omi in omvec]\n",
    "y2 = [Ge_phonon_theory.eps2(omi,omi,method=\"phonon\") for omi in omvec]\n",
    "axs[1][1].plot(omvec,y1,color='Coral',label='Ge, measured')\n",
    "axs[1][1].plot(omvec,y2,color='Coral',linestyle='--',label='Ge, theory')\n",
    "\n",
    "axs[1][1].set_yscale('log')\n",
    "axs[1][1].set_ylim([1e-5,1e-2])\n",
    "axs[1][1].set_xlim([0,0.2])\n",
    "axs[1][1].legend(loc='upper right')\n",
    "axs[1][1].set_xlabel(r'$\\omega$ [eV]')\n",
    "axs[1][1].set_ylabel(r'$\\epsilon_2$',fontsize=16)\n",
    "\n",
    "fig.savefig(plotdir+\"darkelf_epsilon_3.pdf\",bbox_inches='tight')"
   ]
  },
  {
   "cell_type": "markdown",
   "metadata": {},
   "source": [
    "Same for ELF"
   ]
  },
  {
   "cell_type": "code",
   "execution_count": null,
   "metadata": {},
   "outputs": [
    {
     "data": {
      "image/png": "[encoded data removed]",
      "text/plain": [
       "<Figure size 864x288 with 2 Axes>"
      ]
     },
     "metadata": {
      "needs_background": "light"
     },
     "output_type": "display_data"
    }
   ],
   "source": [
    "fig, axs = plt.subplots(1,2,figsize=(12, 4),sharey=True)\n",
    "fig.subplots_adjust(wspace=0.25)\n",
    "\n",
    "omvec = np.linspace(0,0.2,100)\n",
    "\n",
    "### ELF, Si\n",
    "y1 = [Si.elf(omi,omi,method=\"phonon\") for omi in omvec]\n",
    "y2 = [Si_phonon_theory.elf(omi,omi,method=\"phonon\") for omi in omvec]\n",
    "axs[0].plot(omvec,y1,color='MediumBlue',label='Si, measured')\n",
    "axs[0].plot(omvec,y2,color='MediumBlue',linestyle='--',label='Si, theory')\n",
    "\n",
    "axs[0].set_yscale('log')\n",
    "axs[0].set_ylim([1e-7,1e-4])\n",
    "axs[0].set_xlim([0,0.2])\n",
    "axs[0].legend(loc='upper right')\n",
    "axs[0].set_xlabel(r'$\\omega$ [eV]')\n",
    "axs[0].set_ylabel(r'ELF',fontsize=12)\n",
    "\n",
    "### Epsilon1, Ge\n",
    "\n",
    "y1 = [Ge.elf(omi,omi,method=\"phonon\") for omi in omvec]\n",
    "y2 = [Ge_phonon_theory.elf(omi,omi,method=\"phonon\") for omi in omvec]\n",
    "axs[1].plot(omvec,y1,color='Coral',label='Ge, measured')\n",
    "axs[1].plot(omvec,y2,color='Coral',linestyle='--',label='Ge, theory')\n",
    "\n",
    "\n",
    "axs[1].set_yscale('log')\n",
    "axs[1].set_ylim([1e-7,1e-4])\n",
    "axs[1].set_xlim([0,0.2])\n",
    "axs[1].legend(loc='upper right')\n",
    "axs[1].set_xlabel(r'$\\omega$ [eV]')\n",
    "\n",
    "fig.savefig(plotdir+\"darkelf_epsilon_4.pdf\",bbox_inches='tight')"
   ]
  },
  {
   "cell_type": "markdown",
   "metadata": {},
   "source": [
    "## finite k, electron regime "
   ]
  },
  {
   "cell_type": "markdown",
   "metadata": {},
   "source": [
    "This limit is relevant for scattering."
   ]
  },
  {
   "cell_type": "code",
   "execution_count": null,
   "metadata": {},
   "outputs": [],
   "source": [
    "kvals = np.linspace(10,1e4,400)*1e-3\n",
    "ovals = np.linspace(0.01,80,160)\n",
    "Nomega = len(ovals)\n",
    "Nk = len(kvals)\n",
    "\n",
    "z1_grid = np.zeros((Nomega,Nk))\n",
    "z2_grid = np.zeros((Nomega,Nk))\n",
    "ELF_Lindhard = np.zeros((Nomega,Nk))\n",
    "ELF_mermin = np.zeros((Nomega,Nk))\n",
    "ELF_gpaw = np.zeros((Nomega,Nk))\n",
    "\n",
    "for j in range(Nk):\n",
    "    for i in range(Nomega):\n",
    "        ELF_gpaw[i][j] = Si.elf(ovals[i],kvals[j]*1e3)\n",
    "        ELF_mermin[i][j] = Si_mermin.elf(ovals[i],kvals[j]*1e3)\n",
    "        ELF_Lindhard[i][j] = Si_mermin.elf(ovals[i],kvals[j]*1e3,method=\"Lindhard\")"
   ]
  },
  {
   "cell_type": "code",
   "execution_count": null,
   "metadata": {},
   "outputs": [
    {
     "ename": "NameError",
     "evalue": "name 'plt' is not defined",
     "output_type": "error",
     "traceback": [
      "\u001b[1;31m---------------------------------------------------------------------------\u001b[0m",
      "\u001b[1;31mNameError\u001b[0m                                 Traceback (most recent call last)",
      "\u001b[1;32mc:\\Users\\gerda\\Documents\\Darkelfs\\darkelf_epsilon.ipynb Cell 31'\u001b[0m in \u001b[0;36m<module>\u001b[1;34m\u001b[0m\n\u001b[1;32m----> <a href='vscode-notebook-cell:/c%3A/Users/gerda/Documents/Darkelfs/darkelf_epsilon.ipynb#ch0000030?line=0'>1</a>\u001b[0m fig, ax \u001b[39m=\u001b[39m plt\u001b[39m.\u001b[39msubplots(\u001b[39m1\u001b[39m,\u001b[39m3\u001b[39m,sharey\u001b[39m=\u001b[39m\u001b[39mTrue\u001b[39;00m)\n\u001b[0;32m      <a href='vscode-notebook-cell:/c%3A/Users/gerda/Documents/Darkelfs/darkelf_epsilon.ipynb#ch0000030?line=1'>2</a>\u001b[0m fig\u001b[39m.\u001b[39mset_figheight(\u001b[39m4.5\u001b[39m)\n\u001b[0;32m      <a href='vscode-notebook-cell:/c%3A/Users/gerda/Documents/Darkelfs/darkelf_epsilon.ipynb#ch0000030?line=2'>3</a>\u001b[0m fig\u001b[39m.\u001b[39mset_figwidth(\u001b[39m12\u001b[39m)\n",
      "\u001b[1;31mNameError\u001b[0m: name 'plt' is not defined"
     ]
    }
   ],
   "source": [
    "fig, ax = plt.subplots(1,3,sharey=True)\n",
    "fig.set_figheight(4.5)\n",
    "fig.set_figwidth(12)\n",
    "\n",
    "levels = np.linspace(-4,1,11)\n",
    "\n",
    "kF = 3335.6\n",
    "wp = 15.\n",
    "kF = Si_mermin.kF\n",
    "wp = Si_mermin.omegap\n",
    "vF = kF/511e3\n",
    "eVtoA0 = 1973.2\n",
    "\n",
    "xx = np.linspace(10,1e4,400)\n",
    "ax[0].fill_between(xx*1e-3,(xx**2 - 2*xx*kF)/(2*511e3),(xx**2 + 2*xx*kF)/(2*511e3),color='SteelBlue',alpha=0.3)\n",
    "xx = np.linspace(0,2230,200)\n",
    "ax[0].plot(xx*1e-3,wp*(1 + 0.3*vF**2/wp**2*xx**2),color='Navy')\n",
    "xx = np.linspace(0,10000,200)\n",
    "ax[0].plot(xx*1e-3,(xx**2 + 2*xx*kF)/(2*511e3),color='Navy')\n",
    "ax[0].plot(xx*1e-3,(xx**2 - 2*xx*kF)/(2*511e3),color='Navy')\n",
    "\n",
    "img0=ax[0].contourf(kvals,ovals,np.log10(ELF_Lindhard),levels,origin='lower',\n",
    "                      extent = [min(kvals),max(kvals),min(ovals),max(ovals)])\n",
    "img1=ax[1].contourf(kvals,ovals,np.log10(ELF_mermin),levels,origin='lower',\n",
    "                      extent = [min(kvals),max(kvals),min(ovals),max(ovals)])\n",
    "img2=ax[2].contourf(kvals,ovals,np.log10(ELF_gpaw),levels,origin='lower',\n",
    "                      extent = [min(kvals),max(kvals),min(ovals),max(ovals)])\n",
    "#ax.clabel(img1,colors='w')\n",
    "#fig.colorbar(img2,ax=ax[2])\n",
    "#fig.colorbar(img2,  ax=ax.ravel().tolist(), orientation='vertical')\n",
    "cb=fig.colorbar(img2, ax=ax.ravel().tolist(),anchor=(2.1,1.05),shrink=0.94)\n",
    "cb.set_label(\"$\\log_{10}$ Im[$-1/\\epsilon(\\omega, k)]$\",rotation=-90,labelpad=15)\n",
    "\n",
    "ax[0].set_ylim([0,40])\n",
    "ax[0].set_xlim([0,10])\n",
    "ax[0].set_xlabel('$k$ [keV]',fontsize=18)\n",
    "ax[0].set_ylabel('$\\omega$ [eV]',fontsize=18)\n",
    "ax[0].tick_params(bottom=True,right=True,top=True,direction='in',which='both')\n",
    "ax[0].text(4,25,'Electron-hole \\n excitations',color='Navy',fontsize=18)\n",
    "ax[0].text(0.20,17.5,'Plasmon',color='Navy',rotation=26,fontsize=12)\n",
    "ax[0].text(0.5,36.5,r'{\\bf Lindhard}',color='black')\n",
    "ax[0].plot(xx*1e-3,xx*2.5*1e-3,color='black',linestyle='--',linewidth=0.8)\n",
    "ax[0].text(5,10.5,'$\\omega < k v$',color='k',rotation='30')\n",
    "ax[0].arrow(0.445,0.28, 0.023, -0.036, head_width=0.025, head_length=0.015,\n",
    "            linewidth=0.5,fc='k', ec='k', transform=ax[0].transAxes)\n",
    "#ax[0].set_title(r'Si $\\log_{10}$ Im($-1/\\epsilon(\\omega, k))$')\n",
    "\n",
    "ax[1].set_ylim([0,40])\n",
    "ax[1].set_xlim([0,10])\n",
    "ax[1].set_xlabel('$k$ [keV]',fontsize=18)\n",
    "ax[1].tick_params(bottom=True,right=True,top=True,direction='in',which='both')\n",
    "ax[1].text(0.5,36.5,r'{\\bf Mermin}',color='black')\n",
    "ax[1].plot(xx*1e-3,xx*2.5*1e-3,color='black',linestyle='--',linewidth=0.8)\n",
    "#ax[1].set_title(r'Si $\\log_{10}$ Im($-1/\\epsilon(\\omega, k))$')\n",
    "\n",
    "ax[2].set_ylim([0,40])\n",
    "ax[2].set_xlim([0,10])\n",
    "ax[2].set_xlabel('$k$ [keV]',fontsize=18)\n",
    "ax[2].tick_params(bottom=True,right=True,top=True,direction='in',which='both')\n",
    "ax[2].text(0.5,36.5,r'{\\bf GPAW}',color='black')\n",
    "ax[2].plot(xx*1e-3,xx*2.5*1e-3,color='black',linestyle='--',linewidth=0.8)\n",
    "#ax[2].set_title(r'Si $\\log_{10}$ Im($-1/\\epsilon(\\omega, k))$')\n",
    "\n",
    "fig.tight_layout()\n",
    "fig.savefig(plotdir+\"darkelf_epsilon_5.pdf\",bbox_inches='tight')"
   ]
  },
  {
   "cell_type": "code",
   "execution_count": null,
   "metadata": {},
   "outputs": [
    {
     "ename": "NameError",
     "evalue": "name 'plt' is not defined",
     "output_type": "error",
     "traceback": [
      "\u001b[1;31m---------------------------------------------------------------------------\u001b[0m",
      "\u001b[1;31mNameError\u001b[0m                                 Traceback (most recent call last)",
      "\u001b[1;32mc:\\Users\\gerda\\Documents\\Darkelfs\\darkelf_epsilon.ipynb Cell 32'\u001b[0m in \u001b[0;36m<module>\u001b[1;34m\u001b[0m\n\u001b[1;32m----> <a href='vscode-notebook-cell:/c%3A/Users/gerda/Documents/Darkelfs/darkelf_epsilon.ipynb#ch0000031?line=0'>1</a>\u001b[0m fig, axs \u001b[39m=\u001b[39m plt\u001b[39m.\u001b[39msubplots(\u001b[39m2\u001b[39m, \u001b[39m4\u001b[39m,figsize\u001b[39m=\u001b[39m(\u001b[39m14\u001b[39m, \u001b[39m7\u001b[39m))\n\u001b[0;32m      <a href='vscode-notebook-cell:/c%3A/Users/gerda/Documents/Darkelfs/darkelf_epsilon.ipynb#ch0000031?line=1'>2</a>\u001b[0m rc(\u001b[39m'\u001b[39m\u001b[39mxtick\u001b[39m\u001b[39m'\u001b[39m, labelsize\u001b[39m=\u001b[39m\u001b[39m14\u001b[39m)\n\u001b[0;32m      <a href='vscode-notebook-cell:/c%3A/Users/gerda/Documents/Darkelfs/darkelf_epsilon.ipynb#ch0000031?line=2'>3</a>\u001b[0m rc(\u001b[39m'\u001b[39m\u001b[39mytick\u001b[39m\u001b[39m'\u001b[39m, labelsize\u001b[39m=\u001b[39m\u001b[39m14\u001b[39m)\n",
      "\u001b[1;31mNameError\u001b[0m: name 'plt' is not defined"
     ]
    }
   ],
   "source": [
    "fig, axs = plt.subplots(2, 4,figsize=(14, 7))\n",
    "rc('xtick', labelsize=14)\n",
    "rc('ytick', labelsize=14)\n",
    "plt.subplots_adjust(top = 0.93, bottom=0.01, hspace=0.1, wspace=0.2)\n",
    "\n",
    "\n",
    "# first row, plots as function of omega\n",
    "#######################################\n",
    "# omega and k grid\n",
    "olist=np.linspace(0,100,200)\n",
    "klist=[ 1.0, 2.0e3, 5.0e3 , 7.0e3 ]\n",
    "   \n",
    "# loop over the momenta\n",
    "for i in range(len(klist)):\n",
    "    k=klist[i]\n",
    "    \n",
    "    # calculate ELF as function of omega\n",
    "    ELF_gpaw=list(map(lambda om: Si.elf(om,k),olist))\n",
    "    ELF_mermin=list(map(lambda om: Si_mermin.elf(om,k),olist))\n",
    "    ELF_Lindhard=list(map(lambda om: Si_mermin.elf(om,k,method=\"Lindhard\"),olist))\n",
    "\n",
    "    # plot\n",
    "    axs[0][i].plot(olist,ELF_gpaw,\n",
    "                   label=\"GPAW\",\n",
    "                  color=\"Indigo\")\n",
    "    axs[0][i].plot(olist,ELF_mermin,\n",
    "                   label=r\"Mermin\",\n",
    "                   color=\"orange\")\n",
    "    axs[0][i].plot(olist,ELF_Lindhard,\n",
    "                   label=r\"Lindhard\",\n",
    "                   color=\"forestgreen\")\n",
    "    axs[0][i].set_xlabel(r\"$\\omega$ (eV)\",fontsize=16)\n",
    "    axs[0][i].set_xlim([0,100])\n",
    "    axs[0][i].tick_params(bottom=True,direction='in',which='both')\n",
    "    \n",
    "axs[0][0].set_ylim([0,6])\n",
    "axs[0][1].set_ylim([0,4])\n",
    "axs[0][2].set_ylim([0,0.45])\n",
    "axs[0][3].set_ylim([0,0.2])\n",
    "axs[0][0].legend(loc=\"lower right\",frameon=False)\n",
    "axs[0][0].set_ylabel(r\"$\\mathrm{Im}\\left[\\frac{-1}{\\epsilon(\\omega,k)}\\right]$\",fontsize=16)\n",
    "\n",
    "# add some decoration\n",
    "for i in range(4):\n",
    "    axs[0][i].text(0.05,0.9,\"Si\",fontsize=16,transform = axs[0][i].transAxes)\n",
    "    axs[0][i].text(0.95,0.9,r\"$k=$ \"+str(np.round(klist[i]*1e-3,0))+\" keV\",transform = axs[0][i].transAxes,fontsize=16,horizontalalignment=\"right\")\n",
    "    \n",
    "\n",
    "    \n",
    "# second row, plots as function of k\n",
    "#######################################    \n",
    "    \n",
    "# omega and k grid\n",
    "olist=np.linspace(0,100,200)\n",
    "klist=[ 1.0, 2.0e3, 5.0e3 , 7.0e3 ]\n",
    "   \n",
    "# loop over the momenta\n",
    "for i in range(len(klist)):\n",
    "    k=klist[i]\n",
    "    \n",
    "    # calculate ELF as function of omega\n",
    "    ELF_gpaw=list(map(lambda om: Ge.elf(om,k),olist))\n",
    "    ELF_mermin=list(map(lambda om: Ge_mermin.elf(om,k),olist))\n",
    "    ELF_Lindhard=list(map(lambda om: Ge_mermin.elf(om,k,method=\"Lindhard\"),olist))\n",
    "\n",
    "    # plot\n",
    "    axs[1][i].plot(olist,ELF_gpaw,\n",
    "                   label=\"GPAW\",\n",
    "                  color=\"Indigo\")\n",
    "    axs[1][i].plot(olist,ELF_mermin,\n",
    "                   label=r\"Mermin\",\n",
    "                   color=\"orange\")\n",
    "    axs[1][i].plot(olist,ELF_Lindhard,\n",
    "                   label=r\"Lindhard\",\n",
    "                   color=\"forestgreen\")\n",
    "    axs[1][i].set_xlabel(r\"$\\omega$ (eV)\",fontsize=16)\n",
    "    axs[1][i].set_xlim([0,100])\n",
    "    axs[1][i].tick_params(bottom=True,direction='in',which='both')\n",
    "    \n",
    "#axs[0].set_ylim([0,6])\n",
    "#axs[1].set_ylim([0,4])\n",
    "#axs[2].set_ylim([0,0.45])\n",
    "#axs[3].set_ylim([0,0.2])\n",
    "#axs[1][0].legend(loc=(0.5,0.7),frameon=False)\n",
    "axs[1][0].set_ylabel(r\"$\\mathrm{Im}\\left[\\frac{-1}{\\epsilon(\\omega,k)}\\right]$\",fontsize=16)\n",
    "#axs[0].set_xscale(\"Log\")\n",
    "axs[1][0].set_yscale(\"Log\")\n",
    "\n",
    "# add some decoration\n",
    "for i in range(4):\n",
    "    axs[1][i].text(0.05,0.9,\"Ge\",fontsize=16,transform = axs[1][i].transAxes)\n",
    "    axs[1][i].text(0.95,0.9,r\"$k=$ \"+str(np.round(klist[i]*1e-3,0))+\" keV\",transform = axs[1][i].transAxes,fontsize=16,horizontalalignment=\"right\")\n",
    "    \n",
    "\n",
    "fig.tight_layout()     \n",
    "    \n",
    "\n",
    "fig.savefig(plotdir+\"darkelf_epsilon_6.pdf\",bbox_inches='tight')\n"
   ]
  },
  {
   "cell_type": "markdown",
   "metadata": {},
   "source": [
    "## citation for Mermin data"
   ]
  },
  {
   "cell_type": "markdown",
   "metadata": {},
   "source": [
    "Please cite the corresponding experimental papers if you use the mermin method. When using the GPAW method, please cite the GPAW code."
   ]
  },
  {
   "cell_type": "code",
   "execution_count": null,
   "metadata": {},
   "outputs": [
    {
     "data": {
      "text/plain": [
       "'Y. Sun, H. Xu, B. Da, S.-f. Mao and Z.-j. Ding, Calculations of Energy-Loss Function for 26 Materials, Chinese Journal of Chemical Physics 9 (2016) 663.'"
      ]
     },
     "execution_count": 17,
     "metadata": {},
     "output_type": "execute_result"
    }
   ],
   "source": [
    "Si.mermin_ref"
   ]
  },
  {
   "cell_type": "code",
   "execution_count": null,
   "metadata": {},
   "outputs": [],
   "source": []
  }
 ],
 "metadata": {
  "kernelspec": {
   "display_name": "Python 3",
   "language": "python",
   "name": "python3"
  },
  "language_info": {
   "codemirror_mode": {
    "name": "ipython",
    "version": 3
   },
   "file_extension": ".py",
   "mimetype": "text/x-python",
   "name": "python",
   "nbconvert_exporter": "python",
   "pygments_lexer": "ipython3",
   "version": "3.10.2"
  }
 },
 "nbformat": 4,
 "nbformat_minor": 4
}
